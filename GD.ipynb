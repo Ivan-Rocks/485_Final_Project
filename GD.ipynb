{
 "cells": [
  {
   "cell_type": "code",
   "execution_count": 1,
   "metadata": {},
   "outputs": [
    {
     "name": "stdout",
     "output_type": "stream",
     "text": [
      "Finished Loading Images\n",
      "\n",
      "Sanity size Check\n",
      "(256, 512, 512)\n",
      "(256, 512, 512)\n",
      "(256, 512, 512)\n",
      "(256, 512, 512)\n",
      "(256, 512, 512)\n",
      "(256, 512, 512)\n"
     ]
    }
   ],
   "source": [
    "import SimpleITK as sitk\n",
    "import numpy as np\n",
    "\n",
    "images = []\n",
    "\n",
    "for num in [915, 925, 935, 945, 955, 995]:\n",
    "    img = sitk.ReadImage(f'./Heart/Predicted_NIfTI_masks/heart_{num}.nii.gz')\n",
    "    arr = sitk.GetArrayFromImage(img)\n",
    "    images.append(arr)\n",
    "print(\"Finished Loading Images\")\n",
    "\n",
    "print(\"\\nSanity size Check\")\n",
    "for i in images:\n",
    "    print(i.shape)"
   ]
  },
  {
   "cell_type": "code",
   "execution_count": 8,
   "metadata": {},
   "outputs": [
    {
     "name": "stdout",
     "output_type": "stream",
     "text": [
      "Original model has 1214369 vertices and 2426072 faces\n"
     ]
    }
   ],
   "source": [
    "import fbx\n",
    "from skimage import measure\n",
    "import nibabel as nib\n",
    "from scipy.ndimage import gaussian_filter\n",
    "\n",
    "# Load the NIfTI file\n",
    "voxel_data = images[0].astype(int)\n",
    "# voxel_data = transformed_img_array\n",
    "\n",
    "# Can choose to apply gaussian filter\n",
    "# smoothed_data = gaussian_filter(voxel_data, sigma=1)  # Adjust sigma for smoothing intensity\n",
    "# verts, faces, normals, _ = measure.marching_cubes(smoothed_data, level=0.3)\n",
    "verts, faces, normals, _ = measure.marching_cubes(voxel_data, level=0.3)\n",
    "print(f\"Original model has {len(verts)} vertices and {len(faces)} faces\")"
   ]
  },
  {
   "cell_type": "code",
   "execution_count": 13,
   "metadata": {},
   "outputs": [
    {
     "name": "stdout",
     "output_type": "stream",
     "text": [
      "Iteration 1, Energy: 728088.1875\n",
      "Iteration 2, Energy: 728088.1875\n",
      "Converged.\n"
     ]
    }
   ],
   "source": [
    "# === Step 3: Mesh Optimization Algorithm ===\n",
    "def compute_energy(verts, faces, original_verts, alpha=1.0, beta=0.1):\n",
    "    \"\"\"\n",
    "    Compute the total energy: Data fidelity + Compactness.\n",
    "    \"\"\"\n",
    "    # Data fidelity term\n",
    "    fidelity_loss = np.sum(np.linalg.norm(verts - original_verts, axis=1)**2)\n",
    "\n",
    "    # Compactness term: Penalize the number of vertices and faces\n",
    "    compactness_loss = len(verts) + len(faces)\n",
    "\n",
    "    # Total energy\n",
    "    return alpha * fidelity_loss + beta * compactness_loss\n",
    "\n",
    "def optimize_mesh(verts, faces, voxel_data, iterations=50, lr=0.01, alpha=1.0, beta=0.1):\n",
    "    \"\"\"\n",
    "    Optimize the mesh to minimize the energy function.\n",
    "    \"\"\"\n",
    "    verts = verts.copy()\n",
    "    original_verts = verts.copy()\n",
    "\n",
    "    for i in range(iterations):\n",
    "        # Compute energy\n",
    "        energy = compute_energy(verts, faces, original_verts, alpha, beta)\n",
    "        \n",
    "        # Compute gradients (example based on fidelity loss)\n",
    "        fidelity_grad = 2 * (verts - original_verts)  # Simplified fidelity gradient\n",
    "        compactness_grad = np.zeros_like(verts)  # Compactness doesn't directly affect vertex positions\n",
    "        \n",
    "        # Total gradient\n",
    "        total_grad = fidelity_grad + compactness_grad\n",
    "\n",
    "        # Update vertex positions\n",
    "        verts -= lr * total_grad\n",
    "\n",
    "        # Log progress\n",
    "        print(f\"Iteration {i + 1}, Energy: {energy:.4f}\")\n",
    "\n",
    "        # Early stopping if energy change is negligible\n",
    "        if i > 0 and abs(prev_energy - energy) < 1e-6:\n",
    "            print(\"Converged.\")\n",
    "            break\n",
    "\n",
    "        prev_energy = energy\n",
    "\n",
    "    return verts\n",
    "\n",
    "# Optimize the mesh\n",
    "optimized_verts = optimize_mesh(verts, faces, voxel_data, iterations=100, lr=0.5, alpha=1.0, beta=0.2)\n"
   ]
  },
  {
   "cell_type": "code",
   "execution_count": null,
   "metadata": {},
   "outputs": [],
   "source": [
    "# === Step 4: Export to FBX ===\n",
    "# Initialize the FBX SDK\n",
    "manager = fbx.FbxManager.Create()\n",
    "scene = fbx.FbxScene.Create(manager, \"OptimizedMeshScene\")\n",
    "\n",
    "# Create a mesh object\n",
    "mesh = fbx.FbxMesh.Create(scene, \"OptimizedMesh\")\n",
    "\n",
    "# Set the vertices in the FBX mesh\n",
    "mesh.InitControlPoints(len(optimized_verts))\n",
    "for i, vert in enumerate(optimized_verts):\n",
    "    mesh.SetControlPointAt(fbx.FbxVector4(*vert), i)\n",
    "\n",
    "# Add polygons to the mesh\n",
    "for face in faces:\n",
    "    mesh.BeginPolygon()\n",
    "    for idx in face:\n",
    "        mesh.AddPolygon(idx)\n",
    "    mesh.EndPolygon()\n",
    "\n",
    "# Create a node for the mesh\n",
    "mesh_node = fbx.FbxNode.Create(scene, \"OptimizedMeshNode\")\n",
    "mesh_node.SetNodeAttribute(mesh)\n",
    "\n",
    "# Add the mesh node to the scene\n",
    "scene.GetRootNode().AddChild(mesh_node)\n",
    "\n",
    "# Export the scene to an FBX file\n",
    "exporter = fbx.FbxExporter.Create(manager, \"\")\n",
    "output_fbx_path = \"Optimized_Heart_Mesh.fbx\"\n",
    "exporter.Initialize(output_fbx_path, -1, manager.GetIOSettings())\n",
    "exporter.Export(scene)\n",
    "exporter.Destroy()\n",
    "manager.Destroy()\n",
    "print(\"FBX file has been successfully created!\")\n",
    "\n",
    "# === Step 5: File Size Check ===\n",
    "if os.path.exists(output_fbx_path):\n",
    "    file_size_bytes = os.path.getsize(output_fbx_path)\n",
    "    file_size_mb = file_size_bytes / (1024 * 1024)  # Convert bytes to MB\n",
    "    print(f\"File size: {file_size_mb:.2f} MB\")\n",
    "else:\n",
    "    print(\"File not found\")\n"
   ]
  }
 ],
 "metadata": {
  "kernelspec": {
   "display_name": "Python 3",
   "language": "python",
   "name": "python3"
  },
  "language_info": {
   "codemirror_mode": {
    "name": "ipython",
    "version": 3
   },
   "file_extension": ".py",
   "mimetype": "text/x-python",
   "name": "python",
   "nbconvert_exporter": "python",
   "pygments_lexer": "ipython3",
   "version": "3.10.0"
  }
 },
 "nbformat": 4,
 "nbformat_minor": 2
}
